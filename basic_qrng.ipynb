{
 "cells": [
  {
   "cell_type": "code",
   "execution_count": 1,
   "id": "df3053ae-57e1-4992-848a-650bf6201a58",
   "metadata": {},
   "outputs": [],
   "source": [
    "from braket.circuits import Circuit, Gate, Observable\n",
    "from braket.devices import LocalSimulator\n",
    "from braket.circuits import circuit\n",
    "import braket as bk\n",
    "import matplotlib.pyplot as plt"
   ]
  },
  {
   "cell_type": "code",
   "execution_count": 2,
   "id": "358281e7-86fa-4613-8d86-d7b11e4247e4",
   "metadata": {},
   "outputs": [],
   "source": [
    "device = LocalSimulator()"
   ]
  },
  {
   "cell_type": "code",
   "execution_count": 3,
   "id": "05ff5282-dec6-49ea-8218-b2a0f6c83327",
   "metadata": {},
   "outputs": [
    {
     "data": {
      "text/plain": [
       "Circuit('instructions': [Instruction('operator': H('qubit_count': 1), 'target': QubitSet([Qubit(0)]))])"
      ]
     },
     "execution_count": 3,
     "metadata": {},
     "output_type": "execute_result"
    }
   ],
   "source": [
    "circ = Circuit()\n",
    "circ.h(0)"
   ]
  },
  {
   "cell_type": "code",
   "execution_count": 4,
   "id": "9f94be50-c9ab-44fc-a25c-845f48b9e24d",
   "metadata": {},
   "outputs": [],
   "source": [
    "result = device.run(circ, shots=1000).result()"
   ]
  },
  {
   "cell_type": "code",
   "execution_count": 5,
   "id": "8518833e-b66e-4d16-b456-d40671d75b2d",
   "metadata": {},
   "outputs": [
    {
     "data": {
      "text/plain": [
       "Counter({'0': 505, '1': 495})"
      ]
     },
     "execution_count": 5,
     "metadata": {},
     "output_type": "execute_result"
    }
   ],
   "source": [
    "result.measurement_counts"
   ]
  },
  {
   "cell_type": "code",
   "execution_count": null,
   "id": "08ceec44-9a8c-4d30-8336-f3ca18ac3cfd",
   "metadata": {},
   "outputs": [],
   "source": []
  }
 ],
 "metadata": {
  "kernelspec": {
   "display_name": "braket",
   "language": "python",
   "name": "braket"
  },
  "language_info": {
   "codemirror_mode": {
    "name": "ipython",
    "version": 3
   },
   "file_extension": ".py",
   "mimetype": "text/x-python",
   "name": "python",
   "nbconvert_exporter": "python",
   "pygments_lexer": "ipython3",
   "version": "3.9.6"
  }
 },
 "nbformat": 4,
 "nbformat_minor": 5
}
