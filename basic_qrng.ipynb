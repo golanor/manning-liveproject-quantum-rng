{
 "cells": [
  {
   "cell_type": "code",
   "execution_count": 1,
   "id": "df3053ae-57e1-4992-848a-650bf6201a58",
   "metadata": {},
   "outputs": [],
   "source": [
    "from braket.circuits import Circuit, Gate, Observable\n",
    "from braket.devices import LocalSimulator\n",
    "from braket.circuits import circuit\n",
    "import braket as bk\n",
    "import matplotlib.pyplot as plt"
   ]
  },
  {
   "cell_type": "code",
   "execution_count": 2,
   "id": "358281e7-86fa-4613-8d86-d7b11e4247e4",
   "metadata": {},
   "outputs": [],
   "source": [
    "device = LocalSimulator()"
   ]
  },
  {
   "cell_type": "code",
   "execution_count": null,
   "id": "05ff5282-dec6-49ea-8218-b2a0f6c83327",
   "metadata": {},
   "outputs": [],
   "source": [
    "\n",
    "circ = Circuit()\n",
    "circ.h(0)"
   ]
  }
 ],
 "metadata": {
  "kernelspec": {
   "display_name": "braket",
   "language": "python",
   "name": "braket"
  },
  "language_info": {
   "codemirror_mode": {
    "name": "ipython",
    "version": 3
   },
   "file_extension": ".py",
   "mimetype": "text/x-python",
   "name": "python",
   "nbconvert_exporter": "python",
   "pygments_lexer": "ipython3",
   "version": "3.9.6"
  }
 },
 "nbformat": 4,
 "nbformat_minor": 5
}
