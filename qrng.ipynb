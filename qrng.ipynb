{
 "cells": [
  {
   "cell_type": "code",
   "execution_count": 1,
   "id": "df3053ae-57e1-4992-848a-650bf6201a58",
   "metadata": {},
   "outputs": [],
   "source": [
    "from braket.circuits import Circuit, Gate, Observable\n",
    "from braket.devices import LocalSimulator\n",
    "from braket.circuits import circuit\n",
    "import braket as bk\n",
    "import matplotlib.pyplot as plt"
   ]
  },
  {
   "cell_type": "code",
   "execution_count": 2,
   "id": "5b37365f-e943-422a-b9ff-3f173278eab9",
   "metadata": {},
   "outputs": [],
   "source": [
    "def quantum_circuit():\n",
    "    device = LocalSimulator()\n",
    "    circ = Circuit()\n",
    "    circ.h(0)\n",
    "    result = device.run(circ, shots=1).result()\n",
    "    return result.measurements[0][0]\n",
    "\n",
    "def quantum_seed(keylength: int):\n",
    "    key = ''.join([str(quantum_circuit()) for _ in range(keylength)])\n",
    "    key = \"0b\" + key\n",
    "    return hex(int(key, base=2))"
   ]
  },
  {
   "cell_type": "code",
   "execution_count": null,
   "id": "e64609c7-fde0-40f7-a887-432de7805e22",
   "metadata": {},
   "outputs": [],
   "source": []
  }
 ],
 "metadata": {
  "kernelspec": {
   "display_name": "braket",
   "language": "python",
   "name": "braket"
  },
  "language_info": {
   "codemirror_mode": {
    "name": "ipython",
    "version": 3
   },
   "file_extension": ".py",
   "mimetype": "text/x-python",
   "name": "python",
   "nbconvert_exporter": "python",
   "pygments_lexer": "ipython3",
   "version": "3.9.6"
  }
 },
 "nbformat": 4,
 "nbformat_minor": 5
}
